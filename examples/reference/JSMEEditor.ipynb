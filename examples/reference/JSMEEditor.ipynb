{
 "cells": [
  {
   "cell_type": "markdown",
   "id": "728ce224-8da5-43dc-b310-7a957adca697",
   "metadata": {},
   "source": [
    "# JSME Editor"
   ]
  },
  {
   "cell_type": "code",
   "execution_count": null,
   "id": "6b53c66f-a059-4727-8cc1-f502c7b800d7",
   "metadata": {},
   "outputs": [],
   "source": [
    "import panel as pn \n",
    "from panel_chemistry.widgets import JSMEEditor # panel_chemistry needs to be imported before you run pn.extension()\n",
    "\n",
    "pn.extension(\"jsme\", sizing_mode=\"stretch_width\")"
   ]
  },
  {
   "cell_type": "code",
   "execution_count": null,
   "id": "13bd929d-d3a5-4e2c-8c0b-492dc3e3d3d9",
   "metadata": {},
   "outputs": [],
   "source": [
    "smiles=\"N[C@@H](CCC(=O)N[C@@H](CS)C(=O)NCC(=O)O)C(=O)O\"\n",
    "editor = JSMEEditor(value=smiles, height=500, format=\"smiles\")\n",
    "\n",
    "editor"
   ]
  },
  {
   "cell_type": "code",
   "execution_count": null,
   "id": "97c39491-6796-42c6-a28a-05480dddb7de",
   "metadata": {},
   "outputs": [],
   "source": [
    "values = pn.Param(editor, parameters=[\"value\", \"jme\", \"smiles\", \"mol\", \"mol3000\", \"sdf\"], widgets={\n",
    "    \"value\": {\"type\": pn.widgets.TextAreaInput, \"height\": 200},\n",
    "    \"jme\": {\"type\": pn.widgets.TextAreaInput, \"height\": 200},\n",
    "    \"smile\": {\"type\": pn.widgets.TextAreaInput, \"height\": 200},\n",
    "    \"mol\": {\"type\": pn.widgets.TextAreaInput, \"height\": 200},\n",
    "    \"mol3000\": {\"type\": pn.widgets.TextAreaInput, \"height\": 200},\n",
    "    \"sdf\": {\"type\": pn.widgets.TextAreaInput, \"height\": 200},\n",
    "    })"
   ]
  },
  {
   "cell_type": "code",
   "execution_count": null,
   "id": "fda4ce67-2e08-4dd1-8370-cc8b140880da",
   "metadata": {},
   "outputs": [],
   "source": [
    "settings = pn.Param(editor,\n",
    "    parameters=[\"height\", \"width\", \"sizing_mode\", \"subscriptions\", \"format\", \"options\"],\n",
    "    widgets={\n",
    "        \"options\": {\"height\": 300},\n",
    "    })"
   ]
  },
  {
   "cell_type": "code",
   "execution_count": null,
   "id": "f344ccb9-73ae-4797-b1a3-a40853270bce",
   "metadata": {},
   "outputs": [],
   "source": [
    "pn.Row(pn.Column(editor, values), pn.WidgetBox(settings))"
   ]
  },
  {
   "cell_type": "markdown",
   "id": "c3a610ac-8b26-413d-997d-7a75b8192aab",
   "metadata": {},
   "source": [
    "## App\n",
    "\n",
    "Serve the app via `panel serve JSMEEditor.ipynb`."
   ]
  },
  {
   "cell_type": "code",
   "execution_count": null,
   "id": "8aabd1e2-4ab4-41fd-a0f6-62c9098ec0f7",
   "metadata": {},
   "outputs": [],
   "source": [
    "pn.template.FastListTemplate(\n",
    "    site=\"Panel Chemistry v0.0.5\", \n",
    "    title=\"Preliminary JSME Editor\", \n",
    "    sidebar=[settings],\n",
    "    main=[editor, values]\n",
    ").servable();"
   ]
  }
 ],
 "metadata": {
  "kernelspec": {
   "display_name": "Python 3",
   "language": "python",
   "name": "python3"
  },
  "language_info": {
   "codemirror_mode": {
    "name": "ipython",
    "version": 3
   },
   "file_extension": ".py",
   "mimetype": "text/x-python",
   "name": "python",
   "nbconvert_exporter": "python",
   "pygments_lexer": "ipython3",
   "version": "3.8.4"
  }
 },
 "nbformat": 4,
 "nbformat_minor": 5
}
