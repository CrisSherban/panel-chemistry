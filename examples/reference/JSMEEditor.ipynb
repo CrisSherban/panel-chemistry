{
 "cells": [
  {
   "cell_type": "markdown",
   "id": "728ce224-8da5-43dc-b310-7a957adca697",
   "metadata": {},
   "source": [
    "# JSME Editor"
   ]
  },
  {
   "cell_type": "code",
   "execution_count": null,
   "id": "6b53c66f-a059-4727-8cc1-f502c7b800d7",
   "metadata": {},
   "outputs": [],
   "source": [
    "import panel as pn\n",
    "pn.extension()"
   ]
  },
  {
   "cell_type": "code",
   "execution_count": null,
   "id": "13bd929d-d3a5-4e2c-8c0b-492dc3e3d3d9",
   "metadata": {},
   "outputs": [],
   "source": [
    "editor = pn.pane.PNG(\"https://camo.githubusercontent.com/cea14f0813e16322d2e273f918834a2c2eca890d2937d104dc2cceef43f12ffe/68747470733a2f2f75706c6f61642e77696b696d656469612e6f72672f77696b6970656469612f636f6d6d6f6e732f7468756d622f342f34382f4a4d45456469746f72323030382d322e706e672f33303070782d4a4d45456469746f72323030382d322e706e67\")\n",
    "editor"
   ]
  },
  {
   "cell_type": "markdown",
   "id": "c3a610ac-8b26-413d-997d-7a75b8192aab",
   "metadata": {},
   "source": [
    "## App\n",
    "\n",
    "Serve the app via `panel serve JSMEEditor.ipynb`."
   ]
  },
  {
   "cell_type": "code",
   "execution_count": null,
   "id": "8aabd1e2-4ab4-41fd-a0f6-62c9098ec0f7",
   "metadata": {},
   "outputs": [],
   "source": [
    "pn.template.FastListTemplate(\n",
    "    site=\"Panel-Chemistry\",\n",
    "    title=\"JSME Editor\",\n",
    "    main=[editor]\n",
    ").servable();"
   ]
  }
 ],
 "metadata": {
  "kernelspec": {
   "display_name": "Python 3",
   "language": "python",
   "name": "python3"
  },
  "language_info": {
   "codemirror_mode": {
    "name": "ipython",
    "version": 3
   },
   "file_extension": ".py",
   "mimetype": "text/x-python",
   "name": "python",
   "nbconvert_exporter": "python",
   "pygments_lexer": "ipython3",
   "version": "3.8.4"
  }
 },
 "nbformat": 4,
 "nbformat_minor": 5
}
