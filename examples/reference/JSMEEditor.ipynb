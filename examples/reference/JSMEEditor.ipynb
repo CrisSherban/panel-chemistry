{
 "cells": [
  {
   "cell_type": "markdown",
   "id": "728ce224-8da5-43dc-b310-7a957adca697",
   "metadata": {},
   "source": [
    "# JSME Editor"
   ]
  },
  {
   "cell_type": "code",
   "execution_count": 1,
   "id": "6b53c66f-a059-4727-8cc1-f502c7b800d7",
   "metadata": {},
   "outputs": [
    {
     "ename": "ModuleNotFoundError",
     "evalue": "No module named 'panel_chemistry'",
     "output_type": "error",
     "traceback": [
      "\u001b[1;31m---------------------------------------------------------------------------\u001b[0m",
      "\u001b[1;31mModuleNotFoundError\u001b[0m                       Traceback (most recent call last)",
      "\u001b[1;32m<ipython-input-1-71420fd4415a>\u001b[0m in \u001b[0;36m<module>\u001b[1;34m\u001b[0m\n\u001b[0;32m      1\u001b[0m \u001b[1;32mimport\u001b[0m \u001b[0mpanel\u001b[0m \u001b[1;32mas\u001b[0m \u001b[0mpn\u001b[0m\u001b[1;33m\u001b[0m\u001b[1;33m\u001b[0m\u001b[0m\n\u001b[1;32m----> 2\u001b[1;33m \u001b[1;32mfrom\u001b[0m \u001b[0mpanel_chemistry\u001b[0m\u001b[1;33m.\u001b[0m\u001b[0mwidgets\u001b[0m \u001b[1;32mimport\u001b[0m \u001b[0mJSMEEditor\u001b[0m \u001b[1;31m# panel_chemistry needs to be imported before you run pn.extension()\u001b[0m\u001b[1;33m\u001b[0m\u001b[1;33m\u001b[0m\u001b[0m\n\u001b[0m\u001b[0;32m      3\u001b[0m \u001b[1;33m\u001b[0m\u001b[0m\n\u001b[0;32m      4\u001b[0m \u001b[0mpn\u001b[0m\u001b[1;33m.\u001b[0m\u001b[0mextension\u001b[0m\u001b[1;33m(\u001b[0m\u001b[1;34m\"jsme\"\u001b[0m\u001b[1;33m,\u001b[0m \u001b[0msizing_mode\u001b[0m\u001b[1;33m=\u001b[0m\u001b[1;34m\"stretch_width\"\u001b[0m\u001b[1;33m)\u001b[0m\u001b[1;33m\u001b[0m\u001b[1;33m\u001b[0m\u001b[0m\n",
      "\u001b[1;31mModuleNotFoundError\u001b[0m: No module named 'panel_chemistry'"
     ]
    }
   ],
   "source": [
    "import panel as pn \n",
    "from panel_chemistry.widgets import JSMEEditor # panel_chemistry needs to be imported before you run pn.extension()\n",
    "\n",
    "pn.extension(\"jsme\", sizing_mode=\"stretch_width\")"
   ]
  },
  {
   "cell_type": "code",
   "execution_count": null,
   "id": "13bd929d-d3a5-4e2c-8c0b-492dc3e3d3d9",
   "metadata": {},
   "outputs": [],
   "source": [
    "smiles=\"N[C@@H](CCC(=O)N[C@@H](CS)C(=O)NCC(=O)O)C(=O)O\"\n",
    "editor = JSMEEditor(value=smiles, height=500, format=\"smiles\")\n",
    "\n",
    "editor"
   ]
  },
  {
   "cell_type": "code",
   "execution_count": null,
   "id": "97c39491-6796-42c6-a28a-05480dddb7de",
   "metadata": {},
   "outputs": [],
   "source": [
    "values = pn.Param(editor, parameters=[\"value\", \"jme\", \"smiles\", \"mol\", \"mol3000\", \"sdf\"], widgets={\n",
    "    \"value\": {\"type\": pn.widgets.TextAreaInput, \"height\": 200},\n",
    "    \"jme\": {\"type\": pn.widgets.TextAreaInput, \"height\": 200},\n",
    "    \"smile\": {\"type\": pn.widgets.TextAreaInput, \"height\": 200},\n",
    "    \"mol\": {\"type\": pn.widgets.TextAreaInput, \"height\": 200},\n",
    "    \"mol3000\": {\"type\": pn.widgets.TextAreaInput, \"height\": 200},\n",
    "    \"sdf\": {\"type\": pn.widgets.TextAreaInput, \"height\": 200},\n",
    "    })"
   ]
  },
  {
   "cell_type": "code",
   "execution_count": null,
   "id": "fda4ce67-2e08-4dd1-8370-cc8b140880da",
   "metadata": {},
   "outputs": [],
   "source": [
    "settings = pn.Param(editor,\n",
    "    parameters=[\"height\", \"width\", \"sizing_mode\", \"subscriptions\", \"format\", \"options\"],\n",
    "    widgets={\n",
    "        \"options\": {\"height\": 300},\n",
    "    })"
   ]
  },
  {
   "cell_type": "code",
   "execution_count": null,
   "id": "f344ccb9-73ae-4797-b1a3-a40853270bce",
   "metadata": {},
   "outputs": [],
   "source": [
    "pn.Row(pn.Column(editor, values), pn.WidgetBox(settings, sizing_mode=\"fixed\", width=300))"
   ]
  },
  {
   "cell_type": "markdown",
   "id": "c3a610ac-8b26-413d-997d-7a75b8192aab",
   "metadata": {},
   "source": [
    "## App"
   ]
  },
  {
   "cell_type": "code",
   "execution_count": null,
   "id": "8aabd1e2-4ab4-41fd-a0f6-62c9098ec0f7",
   "metadata": {},
   "outputs": [],
   "source": [
    "pn.template.FastListTemplate(\n",
    "    site=\"Panel Chemistry\", \n",
    "    title=\"JSME Editor\", \n",
    "    sidebar=[settings],\n",
    "    main=[editor, values]\n",
    ").servable();"
   ]
  },
  {
   "cell_type": "markdown",
   "id": "0e69d85b",
   "metadata": {},
   "source": [
    "Serve the app via `panel serve JSMEEditor.ipynb` and check it out at http://localhost:5006/JSMEEditor"
   ]
  },
  {
   "cell_type": "markdown",
   "id": "3b4ec75d",
   "metadata": {},
   "source": [
    "![JSME Editor App](../assets/jsme-editor-app.png)"
   ]
  },
  {
   "cell_type": "code",
   "execution_count": null,
   "id": "591117a7",
   "metadata": {},
   "outputs": [],
   "source": []
  }
 ],
 "metadata": {
  "kernelspec": {
   "display_name": "Python 3",
   "language": "python",
   "name": "python3"
  },
  "language_info": {
   "codemirror_mode": {
    "name": "ipython",
    "version": 3
   },
   "file_extension": ".py",
   "mimetype": "text/x-python",
   "name": "python",
   "nbconvert_exporter": "python",
   "pygments_lexer": "ipython3",
   "version": "3.8.4"
  }
 },
 "nbformat": 4,
 "nbformat_minor": 5
}
